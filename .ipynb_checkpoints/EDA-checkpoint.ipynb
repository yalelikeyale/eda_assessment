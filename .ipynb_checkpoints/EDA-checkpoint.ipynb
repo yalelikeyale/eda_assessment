{
 "cells": [
  {
   "cell_type": "code",
   "execution_count": 1,
   "metadata": {},
   "outputs": [],
   "source": [
    "import pandas as pd\n",
    "import numpy as np \n",
    "import seaborn as sns\n",
    "import matplotlib as plt\n",
    "\n",
    "#display options\n",
    "import warnings\n",
    "warnings.filterwarnings('ignore')\n",
    "sns.set(rc={'image.cmap': 'coolwarm'})\n",
    "pd.set_option('display.max_columns', 500)\n",
    "%config InlineBackend.figure_format = \"retina\"\n",
    "plt.rcParams['figure.figsize'] = (8, 6)\n",
    "plt.rcParams['font.size'] = 14\n",
    "plt.style.use(\"fivethirtyeight\")"
   ]
  },
  {
   "cell_type": "code",
   "execution_count": 2,
   "metadata": {},
   "outputs": [],
   "source": [
    "df = pd.read_csv('au_data.csv')"
   ]
  },
  {
   "cell_type": "markdown",
   "metadata": {},
   "source": [
    "# Data Cleaning"
   ]
  },
  {
   "cell_type": "code",
   "execution_count": 3,
   "metadata": {},
   "outputs": [],
   "source": [
    "df['Date'] = pd.to_datetime(df['Date'])\n",
    "dollar_cols = ['Net Total Revenue','Net Product Revenue','Net Shipping Revenue','Cost of Goods Sold','Shipping Cost']\n",
    "df[dollar_cols] = df[dollar_cols].replace({'\\$':''}, regex = True)\n",
    "df[dollar_cols] = df[dollar_cols].replace({',':''}, regex = True).astype(int)"
   ]
  },
  {
   "cell_type": "code",
   "execution_count": 4,
   "metadata": {},
   "outputs": [
    {
     "data": {
      "text/html": [
       "<div>\n",
       "<style scoped>\n",
       "    .dataframe tbody tr th:only-of-type {\n",
       "        vertical-align: middle;\n",
       "    }\n",
       "\n",
       "    .dataframe tbody tr th {\n",
       "        vertical-align: top;\n",
       "    }\n",
       "\n",
       "    .dataframe thead th {\n",
       "        text-align: right;\n",
       "    }\n",
       "</style>\n",
       "<table border=\"1\" class=\"dataframe\">\n",
       "  <thead>\n",
       "    <tr style=\"text-align: right;\">\n",
       "      <th></th>\n",
       "      <th>count</th>\n",
       "      <th>mean</th>\n",
       "      <th>std</th>\n",
       "      <th>min</th>\n",
       "      <th>25%</th>\n",
       "      <th>50%</th>\n",
       "      <th>75%</th>\n",
       "      <th>max</th>\n",
       "    </tr>\n",
       "  </thead>\n",
       "  <tbody>\n",
       "    <tr>\n",
       "      <td>Net Total Revenue</td>\n",
       "      <td>26805.0</td>\n",
       "      <td>1020.983622</td>\n",
       "      <td>3068.797276</td>\n",
       "      <td>-2.0</td>\n",
       "      <td>65.0</td>\n",
       "      <td>217.0</td>\n",
       "      <td>834.0</td>\n",
       "      <td>86045.0</td>\n",
       "    </tr>\n",
       "    <tr>\n",
       "      <td>Net Product Revenue</td>\n",
       "      <td>26805.0</td>\n",
       "      <td>874.187540</td>\n",
       "      <td>2724.655767</td>\n",
       "      <td>-5.0</td>\n",
       "      <td>54.0</td>\n",
       "      <td>183.0</td>\n",
       "      <td>705.0</td>\n",
       "      <td>80188.0</td>\n",
       "    </tr>\n",
       "    <tr>\n",
       "      <td>Net Shipping Revenue</td>\n",
       "      <td>26805.0</td>\n",
       "      <td>146.602537</td>\n",
       "      <td>464.947547</td>\n",
       "      <td>-6.0</td>\n",
       "      <td>10.0</td>\n",
       "      <td>34.0</td>\n",
       "      <td>126.0</td>\n",
       "      <td>28772.0</td>\n",
       "    </tr>\n",
       "    <tr>\n",
       "      <td>Cost of Goods Sold</td>\n",
       "      <td>26805.0</td>\n",
       "      <td>328.717814</td>\n",
       "      <td>955.977209</td>\n",
       "      <td>0.0</td>\n",
       "      <td>21.0</td>\n",
       "      <td>72.0</td>\n",
       "      <td>278.0</td>\n",
       "      <td>33218.0</td>\n",
       "    </tr>\n",
       "    <tr>\n",
       "      <td>Shipping Cost</td>\n",
       "      <td>26805.0</td>\n",
       "      <td>124.463533</td>\n",
       "      <td>354.721909</td>\n",
       "      <td>0.0</td>\n",
       "      <td>10.0</td>\n",
       "      <td>30.0</td>\n",
       "      <td>111.0</td>\n",
       "      <td>16430.0</td>\n",
       "    </tr>\n",
       "    <tr>\n",
       "      <td>Paid Order Count</td>\n",
       "      <td>26805.0</td>\n",
       "      <td>19.792128</td>\n",
       "      <td>51.418344</td>\n",
       "      <td>0.0</td>\n",
       "      <td>2.0</td>\n",
       "      <td>5.0</td>\n",
       "      <td>16.0</td>\n",
       "      <td>1370.0</td>\n",
       "    </tr>\n",
       "  </tbody>\n",
       "</table>\n",
       "</div>"
      ],
      "text/plain": [
       "                        count         mean          std  min   25%    50%  \\\n",
       "Net Total Revenue     26805.0  1020.983622  3068.797276 -2.0  65.0  217.0   \n",
       "Net Product Revenue   26805.0   874.187540  2724.655767 -5.0  54.0  183.0   \n",
       "Net Shipping Revenue  26805.0   146.602537   464.947547 -6.0  10.0   34.0   \n",
       "Cost of Goods Sold    26805.0   328.717814   955.977209  0.0  21.0   72.0   \n",
       "Shipping Cost         26805.0   124.463533   354.721909  0.0  10.0   30.0   \n",
       "Paid Order Count      26805.0    19.792128    51.418344  0.0   2.0    5.0   \n",
       "\n",
       "                        75%      max  \n",
       "Net Total Revenue     834.0  86045.0  \n",
       "Net Product Revenue   705.0  80188.0  \n",
       "Net Shipping Revenue  126.0  28772.0  \n",
       "Cost of Goods Sold    278.0  33218.0  \n",
       "Shipping Cost         111.0  16430.0  \n",
       "Paid Order Count       16.0   1370.0  "
      ]
     },
     "execution_count": 4,
     "metadata": {},
     "output_type": "execute_result"
    }
   ],
   "source": [
    "df.describe().T"
   ]
  },
  {
   "cell_type": "markdown",
   "metadata": {},
   "source": [
    "# Feature Engineering"
   ]
  },
  {
   "cell_type": "code",
   "execution_count": 5,
   "metadata": {},
   "outputs": [],
   "source": [
    "df['Profit'] = df['Net Total Revenue'] - df['Cost of Goods Sold'] - df['Shipping Cost']\n",
    "df['Unit Revenue'] = df['Net Product Revenue'] / df['Paid Order Count']\n",
    "df['Unit Cost'] = df['Cost of Goods Sold'] / df['Paid Order Count']"
   ]
  },
  {
   "cell_type": "code",
   "execution_count": 20,
   "metadata": {},
   "outputs": [],
   "source": [
    "df['Year'] = df['Date'].dt.year\n",
    "df['Month'] = df['Date'].dt.month\n",
    "df['Quarter'] = df['Date'].dt.quarter"
   ]
  },
  {
   "cell_type": "code",
   "execution_count": 6,
   "metadata": {},
   "outputs": [
    {
     "data": {
      "text/html": [
       "<div>\n",
       "<style scoped>\n",
       "    .dataframe tbody tr th:only-of-type {\n",
       "        vertical-align: middle;\n",
       "    }\n",
       "\n",
       "    .dataframe tbody tr th {\n",
       "        vertical-align: top;\n",
       "    }\n",
       "\n",
       "    .dataframe thead th {\n",
       "        text-align: right;\n",
       "    }\n",
       "</style>\n",
       "<table border=\"1\" class=\"dataframe\">\n",
       "  <thead>\n",
       "    <tr style=\"text-align: right;\">\n",
       "      <th></th>\n",
       "      <th>Product Line</th>\n",
       "      <th>Product Category</th>\n",
       "      <th>Date</th>\n",
       "      <th>Net Total Revenue</th>\n",
       "      <th>Net Product Revenue</th>\n",
       "      <th>Net Shipping Revenue</th>\n",
       "      <th>Cost of Goods Sold</th>\n",
       "      <th>Shipping Cost</th>\n",
       "      <th>Paid Order Count</th>\n",
       "      <th>Profit</th>\n",
       "      <th>Unit Revenue</th>\n",
       "      <th>Unit Cost</th>\n",
       "    </tr>\n",
       "  </thead>\n",
       "  <tbody>\n",
       "    <tr>\n",
       "      <td>0</td>\n",
       "      <td>hardcover photo books</td>\n",
       "      <td>books</td>\n",
       "      <td>2018-01-01</td>\n",
       "      <td>5778</td>\n",
       "      <td>5106</td>\n",
       "      <td>672</td>\n",
       "      <td>1375</td>\n",
       "      <td>491</td>\n",
       "      <td>80</td>\n",
       "      <td>3912</td>\n",
       "      <td>63.825000</td>\n",
       "      <td>17.187500</td>\n",
       "    </tr>\n",
       "    <tr>\n",
       "      <td>1</td>\n",
       "      <td>layflat photo albums</td>\n",
       "      <td>books</td>\n",
       "      <td>2018-01-01</td>\n",
       "      <td>4213</td>\n",
       "      <td>3830</td>\n",
       "      <td>383</td>\n",
       "      <td>1429</td>\n",
       "      <td>292</td>\n",
       "      <td>27</td>\n",
       "      <td>2492</td>\n",
       "      <td>141.851852</td>\n",
       "      <td>52.925926</td>\n",
       "    </tr>\n",
       "    <tr>\n",
       "      <td>2</td>\n",
       "      <td>softcover photo books</td>\n",
       "      <td>books</td>\n",
       "      <td>2018-01-01</td>\n",
       "      <td>3261</td>\n",
       "      <td>2675</td>\n",
       "      <td>586</td>\n",
       "      <td>862</td>\n",
       "      <td>292</td>\n",
       "      <td>100</td>\n",
       "      <td>2107</td>\n",
       "      <td>26.750000</td>\n",
       "      <td>8.620000</td>\n",
       "    </tr>\n",
       "    <tr>\n",
       "      <td>3</td>\n",
       "      <td>everyday print set</td>\n",
       "      <td>prints</td>\n",
       "      <td>2018-01-01</td>\n",
       "      <td>1908</td>\n",
       "      <td>1356</td>\n",
       "      <td>552</td>\n",
       "      <td>564</td>\n",
       "      <td>290</td>\n",
       "      <td>126</td>\n",
       "      <td>1054</td>\n",
       "      <td>10.761905</td>\n",
       "      <td>4.476190</td>\n",
       "    </tr>\n",
       "    <tr>\n",
       "      <td>4</td>\n",
       "      <td>wedding guest books</td>\n",
       "      <td>books</td>\n",
       "      <td>2018-01-01</td>\n",
       "      <td>1812</td>\n",
       "      <td>1650</td>\n",
       "      <td>162</td>\n",
       "      <td>601</td>\n",
       "      <td>101</td>\n",
       "      <td>13</td>\n",
       "      <td>1110</td>\n",
       "      <td>126.923077</td>\n",
       "      <td>46.230769</td>\n",
       "    </tr>\n",
       "  </tbody>\n",
       "</table>\n",
       "</div>"
      ],
      "text/plain": [
       "            Product Line Product Category       Date  Net Total Revenue  \\\n",
       "0  hardcover photo books            books 2018-01-01               5778   \n",
       "1   layflat photo albums            books 2018-01-01               4213   \n",
       "2  softcover photo books            books 2018-01-01               3261   \n",
       "3     everyday print set           prints 2018-01-01               1908   \n",
       "4    wedding guest books            books 2018-01-01               1812   \n",
       "\n",
       "   Net Product Revenue  Net Shipping Revenue  Cost of Goods Sold  \\\n",
       "0                 5106                   672                1375   \n",
       "1                 3830                   383                1429   \n",
       "2                 2675                   586                 862   \n",
       "3                 1356                   552                 564   \n",
       "4                 1650                   162                 601   \n",
       "\n",
       "   Shipping Cost  Paid Order Count  Profit  Unit Revenue  Unit Cost  \n",
       "0            491                80    3912     63.825000  17.187500  \n",
       "1            292                27    2492    141.851852  52.925926  \n",
       "2            292               100    2107     26.750000   8.620000  \n",
       "3            290               126    1054     10.761905   4.476190  \n",
       "4            101                13    1110    126.923077  46.230769  "
      ]
     },
     "execution_count": 6,
     "metadata": {},
     "output_type": "execute_result"
    }
   ],
   "source": [
    "df.head()"
   ]
  },
  {
   "cell_type": "markdown",
   "metadata": {},
   "source": [
    "# Questions\n",
    "\n",
    "### General Questions\n",
    "1. Which product lines/ categories are the most profitable? Quarterly? Monthly? \n",
    "2. Which product lines/ categories drive the most orders? Quarterly? Monthly?\n",
    "3. Which product line/ categories have the highest cost of goods sold? shipping costs? \n",
    "4. How are costs correlated to order counts? \n",
    "5. How are prices correlated with order counts? \n",
    "\n",
    "### Look for opportunities to change marketing based on seasonality\n",
    "1. Which product lines/ categories account for the most revenue in each quarter/ season\n",
    "\n",
    "### Look for opportunities for cross-sales/ upsales\n",
    "1. Do any product lines/ categories have correlating seasonality? \n",
    "\n",
    "### Look for opportunities to increase prices\n",
    "1. Are any product lines selling at a significantly higher rate than others within their category? \n",
    "2. Do any product lines with lower margins sell at a significantly higher rate than others?\n",
    "\n",
    "### Look for opportunities to decrease prices\n",
    "1. Are any product lines selling at a significantly slower rate than others within their category? \n",
    "2. Do any product lines with higher margins sell at a significantly slower rate than others?\n",
    "\n",
    "### Promotional Pricing\n",
    "1. Do any product lines/ categories take a big dip in any quarter? \n",
    "\n",
    "### Trend analysis\n",
    "1. Is any product line/ category growing at a faster rate than others? \n",
    "2. Is any product line/ category have growth that is slowing or declining? "
   ]
  },
  {
   "cell_type": "markdown",
   "metadata": {},
   "source": [
    "# Year over Year Profit per Category "
   ]
  },
  {
   "cell_type": "code",
   "execution_count": 22,
   "metadata": {},
   "outputs": [
    {
     "data": {
      "text/plain": [
       "<matplotlib.axes._subplots.AxesSubplot at 0x1a185ce710>"
      ]
     },
     "execution_count": 22,
     "metadata": {},
     "output_type": "execute_result"
    },
    {
     "data": {
      "image/png": "[encoded data removed]",
      "text/plain": [
       "<Figure size 432x288 with 1 Axes>"
      ]
     },
     "metadata": {
      "image/png": {
       "height": 260,
       "width": 453
      },
      "needs_background": "light"
     },
     "output_type": "display_data"
    }
   ],
   "source": [
    "sns.barplot(x='Product Category', y='Profit', hue='Year', estimator=np.sum, data=df)"
   ]
  },
  {
   "cell_type": "markdown",
   "metadata": {},
   "source": [
    "# Year over Year Profit Ratio per Category"
   ]
  },
  {
   "cell_type": "code",
   "execution_count": 8,
   "metadata": {},
   "outputs": [
    {
     "data": {
      "text/plain": [
       "<matplotlib.axes._subplots.AxesSubplot at 0x1a176c8240>"
      ]
     },
     "execution_count": 8,
     "metadata": {},
     "output_type": "execute_result"
    },
    {
     "data": {
      "image/png": "[encoded data removed]",
      "text/plain": [
       "<Figure size 432x288 with 1 Axes>"
      ]
     },
     "metadata": {
      "image/png": {
       "height": 260,
       "width": 424
      },
      "needs_background": "light"
     },
     "output_type": "display_data"
    }
   ],
   "source": [
    "cat_rev = df.groupby(['Product Category',pd.Grouper(key='Date',freq='Y')])['Profit'].sum()\n",
    "year_rev = df.groupby(pd.Grouper(key='Date',freq='Y'))['Profit'].sum()\n",
    "year_rev_ratio = cat_rev.div(year_rev).reset_index()\n",
    "sns.barplot(x='Product Category', y='Profit', hue='Date', data=year_rev_ratio)  "
   ]
  },
  {
   "cell_type": "markdown",
   "metadata": {},
   "source": [
    "# 2019 Quarterly Profit by Product Category"
   ]
  },
  {
   "cell_type": "code",
   "execution_count": 29,
   "metadata": {},
   "outputs": [
    {
     "data": {
      "text/plain": [
       "<matplotlib.axes._subplots.AxesSubplot at 0x1a18953860>"
      ]
     },
     "execution_count": 29,
     "metadata": {},
     "output_type": "execute_result"
    },
    {
     "data": {
      "image/png": "[encoded data removed]",
      "text/plain": [
       "<Figure size 432x288 with 1 Axes>"
      ]
     },
     "metadata": {
      "image/png": {
       "height": 260,
       "width": 453
      },
      "needs_background": "light"
     },
     "output_type": "display_data"
    }
   ],
   "source": [
    "sns.barplot(x='Product Category', y='Profit', hue='Quarter', estimator=np.sum, data=df[df['Year']==2019]) "
   ]
  },
  {
   "cell_type": "markdown",
   "metadata": {},
   "source": [
    "# Books Q4 percent of 2019 Profit"
   ]
  },
  {
   "cell_type": "code",
   "execution_count": 34,
   "metadata": {},
   "outputs": [
    {
     "data": {
      "text/plain": [
       "0.30753730632563103"
      ]
     },
     "execution_count": 34,
     "metadata": {},
     "output_type": "execute_result"
    }
   ],
   "source": [
    "df[(df['Quarter']==4)&(df['Year']==2019)&(df['Product Category']=='books')]['Profit'].sum() / df[df['Year']==2019]['Profit'].sum()"
   ]
  },
  {
   "cell_type": "markdown",
   "metadata": {},
   "source": [
    "# Which book product lines are driving the most profit?"
   ]
  },
  {
   "cell_type": "code",
   "execution_count": 38,
   "metadata": {},
   "outputs": [],
   "source": [
    "book_profits = df[(df['Year']==2019)&(df['Product Category']=='books')].groupby('Product Line')['Profit'].sum().sort_values(ascending=False).reset_index()"
   ]
  },
  {
   "cell_type": "code",
   "execution_count": 39,
   "metadata": {},
   "outputs": [
    {
     "data": {
      "text/html": [
       "<div>\n",
       "<style scoped>\n",
       "    .dataframe tbody tr th:only-of-type {\n",
       "        vertical-align: middle;\n",
       "    }\n",
       "\n",
       "    .dataframe tbody tr th {\n",
       "        vertical-align: top;\n",
       "    }\n",
       "\n",
       "    .dataframe thead th {\n",
       "        text-align: right;\n",
       "    }\n",
       "</style>\n",
       "<table border=\"1\" class=\"dataframe\">\n",
       "  <thead>\n",
       "    <tr style=\"text-align: right;\">\n",
       "      <th></th>\n",
       "      <th>Product Line</th>\n",
       "      <th>Profit</th>\n",
       "    </tr>\n",
       "  </thead>\n",
       "  <tbody>\n",
       "    <tr>\n",
       "      <td>0</td>\n",
       "      <td>hardcover photo books</td>\n",
       "      <td>1451186</td>\n",
       "    </tr>\n",
       "    <tr>\n",
       "      <td>1</td>\n",
       "      <td>layflat photo albums</td>\n",
       "      <td>1115514</td>\n",
       "    </tr>\n",
       "    <tr>\n",
       "      <td>2</td>\n",
       "      <td>wedding layflat photo albums</td>\n",
       "      <td>1080288</td>\n",
       "    </tr>\n",
       "    <tr>\n",
       "      <td>3</td>\n",
       "      <td>everyday photo books</td>\n",
       "      <td>390400</td>\n",
       "    </tr>\n",
       "    <tr>\n",
       "      <td>4</td>\n",
       "      <td>softcover photo books</td>\n",
       "      <td>344144</td>\n",
       "    </tr>\n",
       "  </tbody>\n",
       "</table>\n",
       "</div>"
      ],
      "text/plain": [
       "                   Product Line   Profit\n",
       "0         hardcover photo books  1451186\n",
       "1          layflat photo albums  1115514\n",
       "2  wedding layflat photo albums  1080288\n",
       "3          everyday photo books   390400\n",
       "4         softcover photo books   344144"
      ]
     },
     "execution_count": 39,
     "metadata": {},
     "output_type": "execute_result"
    }
   ],
   "source": [
    "book_profits.head()"
   ]
  },
  {
   "cell_type": "code",
   "execution_count": 41,
   "metadata": {},
   "outputs": [
    {
     "data": {
      "text/plain": [
       "Product Line\n",
       "hardcover photo books               0.282017\n",
       "layflat photo albums                0.216784\n",
       "wedding layflat photo albums        0.209938\n",
       "everyday photo books                0.075869\n",
       "softcover photo books               0.066879\n",
       "wedding guest books                 0.044848\n",
       "baby book                           0.042420\n",
       "color series photo book             0.036333\n",
       "baby board book                     0.013185\n",
       "wedding guest book set              0.006854\n",
       "wedding album design service fee    0.002472\n",
       "baby book refill pack               0.001530\n",
       "scrapbook album                     0.001089\n",
       "volumes subscription series         0.000004\n",
       "dust jacket refill                 -0.000220\n",
       "Name: Profit, dtype: float64"
      ]
     },
     "execution_count": 41,
     "metadata": {},
     "output_type": "execute_result"
    }
   ],
   "source": [
    "line_profits = df[(df['Year']==2019)&(df['Product Category']=='books')].groupby('Product Line')['Profit'].sum()\n",
    "book_profit = df[(df['Year']==2019)&(df['Product Category']=='books')]['Profit'].sum()\n",
    "line_profits.div(book_profit).sort_values(ascending=False)"
   ]
  },
  {
   "cell_type": "markdown",
   "metadata": {},
   "source": [
    "# Which product lines/ categories drive the most orders? Quarterly? Monthly?"
   ]
  },
  {
   "cell_type": "code",
   "execution_count": null,
   "metadata": {},
   "outputs": [],
   "source": []
  },
  {
   "cell_type": "code",
   "execution_count": null,
   "metadata": {},
   "outputs": [],
   "source": []
  },
  {
   "cell_type": "markdown",
   "metadata": {},
   "source": [
    "# Look at margins compared to units sold?"
   ]
  },
  {
   "cell_type": "code",
   "execution_count": null,
   "metadata": {},
   "outputs": [],
   "source": []
  }
 ],
 "metadata": {
  "kernelspec": {
   "display_name": "Python 3",
   "language": "python",
   "name": "python3"
  },
  "language_info": {
   "codemirror_mode": {
    "name": "ipython",
    "version": 3
   },
   "file_extension": ".py",
   "mimetype": "text/x-python",
   "name": "python",
   "nbconvert_exporter": "python",
   "pygments_lexer": "ipython3",
   "version": "3.6.9"
  }
 },
 "nbformat": 4,
 "nbformat_minor": 2
}
